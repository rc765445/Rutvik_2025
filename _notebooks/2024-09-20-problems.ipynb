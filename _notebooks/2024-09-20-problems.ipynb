{
 "cells": [
  {
   "cell_type": "raw",
   "metadata": {
    "vscode": {
     "languageId": "raw"
    }
   },
   "source": [
    "---\n",
    "layout: post\n",
    "title: Problems and Solutions\n",
    "permalink: /problems/\n",
    "---"
   ]
  },
  {
   "cell_type": "markdown",
   "metadata": {
    "vscode": {
     "languageId": "raw"
    }
   },
   "source": [
    "1. gcc -Wall -g -c -o utils.o utils.c                     /I had an error with the make file error in which it would not let me make the file\n",
    "gcc: error: utils.c: No such file or directory\n",
    "gcc: fatal error: no input files\n",
    "compilation terminated.\n",
    "make: *** [utils.o] Error 1\n",
    "\n",
    "I had a problem with the Make file. It wouldn't let me get the link for the website and the way I fixed this issue is by reverting the make file to og.\n",
    "I had accidently deleted parts of the make file.."
   ]
  }
 ],
 "metadata": {
  "kernelspec": {
   "display_name": "venv",
   "language": "python",
   "name": "python3"
  },
  "language_info": {
   "codemirror_mode": {
    "name": "ipython",
    "version": 3
   },
   "file_extension": ".py",
   "mimetype": "text/x-python",
   "name": "python",
   "nbconvert_exporter": "python",
   "pygments_lexer": "ipython3",
   "version": "3.12.5"
  }
 },
 "nbformat": 4,
 "nbformat_minor": 2
}
