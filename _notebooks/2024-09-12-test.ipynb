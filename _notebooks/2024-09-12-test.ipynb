{
 "cells": [
  {
   "cell_type": "markdown",
   "metadata": {},
   "source": [
    "---\n",
    "toc: true\n",
    "layout: post\n",
    "title: test\n",
    "description: yrr\n",
    "type: ccc\n",
    "courses: { capsule: {week: 0} }\n",
    "permakink: /problem\n",
    "---"
   ]
  },
  {
   "cell_type": "markdown",
   "metadata": {},
   "source": [
    "1. gcc -Wall -g -c -o utils.o utils.c                     /I had an error with the make file error in which it would not let me make the file\n",
    "gcc: error: utils.c: No such file or directory\n",
    "gcc: fatal error: no input files\n",
    "compilation terminated.\n",
    "make: *** [utils.o] Error 1"
   ]
  },
  {
   "cell_type": "markdown",
   "metadata": {},
   "source": []
  }
 ],
 "metadata": {
  "language_info": {
   "name": "python"
  }
 },
 "nbformat": 4,
 "nbformat_minor": 2
}
